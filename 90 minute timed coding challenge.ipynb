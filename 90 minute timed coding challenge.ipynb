{
 "cells": [
  {
   "cell_type": "markdown",
   "id": "b1790563-8a11-40ae-bfd2-bb1145066aae",
   "metadata": {},
   "source": [
    "# Q1: TSQL"
   ]
  },
  {
   "cell_type": "markdown",
   "id": "261d940f-d500-42f1-98b4-88b3a86c6b4d",
   "metadata": {},
   "source": [
    "SET NOCOUNT ON;  \n",
    "\n",
    "SELECT 'customer' as category, c.id, c.customer_name from customer c  \n",
    "LEFT JOIN invoice i  \n",
    "on i.customer_id = c.id  \n",
    "where i.id is NULL  \n",
    "UNION ALL  \n",
    "select 'product' as category, p.id, p.product_name from product p  \n",
    "LEFT JOIN invoice_item ii  \n",
    "on p.id = ii.product_id  \n",
    "where ii.id is NULL  \n",
    "\n",
    "go"
   ]
  },
  {
   "cell_type": "markdown",
   "id": "bb675992-6fcd-4f00-81bc-072da935bd96",
   "metadata": {},
   "source": [
    "# Q2: ValueError"
   ]
  },
  {
   "cell_type": "code",
   "execution_count": null,
   "id": "ddaf2814-45ec-4e2b-94e8-d51ac6afcdfe",
   "metadata": {},
   "outputs": [],
   "source": [
    "#!/bin/python3\n",
    "\n",
    "import math\n",
    "import os\n",
    "import random\n",
    "import re\n",
    "import sys\n",
    "\n",
    "def multiply(a, b, bound):\n",
    "    if a * b <= bound:\n",
    "        return a * b\n",
    "    else:\n",
    "        raise ValueError (f\"multiplication of {a} and {b} with bound {bound} not possible\")\n",
    "\n",
    "if __name__ == '__main__':\n",
    "    fptr = open(os.environ['OUTPUT_PATH'], 'w')\n",
    "    q = int(input())\n",
    "    for _ in range(q):\n",
    "        a, b, bound = list(map(int, input().split()))\n",
    "        try:\n",
    "            res = multiply(a, b, bound)\n",
    "            fptr.write(\"%d\\n\" % res)\n",
    "        except ValueError as e:\n",
    "            fptr.write(\"%s\\n\" % e)\n",
    "    fptr.close()"
   ]
  },
  {
   "cell_type": "markdown",
   "id": "2450ffb8-798f-443e-8c19-72060a40c276",
   "metadata": {},
   "source": [
    "# Q3: R"
   ]
  },
  {
   "cell_type": "markdown",
   "id": "c0697768-4020-4923-91c2-4fcdb4ecf1d0",
   "metadata": {
    "tags": []
   },
   "source": [
    "library(dplyr)  \n",
    "\n",
    "users_data_cleaning <- function(df_data) {  \n",
    "  #trim all leading and trailing spaces  \n",
    "  df_data <- df_data %>% mutate_if(is.character, trimws)  \n",
    "  #capitalize the first letter and make the other letters lower case  \n",
    "  df_data <- df_data %>% mutate_if(is.character, tolower) %>% mutate_if(is.character, capitalize)  \n",
    "  #set the feature \"age\" as to a positive integer: its absolute value, rounded to the nearst integer  \n",
    "  df_data <- df_data %>% mutate(age = abs(round(age)))  \n",
    "  return(df_data)  \n",
    "}  "
   ]
  },
  {
   "cell_type": "markdown",
   "id": "8eb378d4-a584-4fed-81b4-120bf932096c",
   "metadata": {},
   "source": [
    "# Q4: String Manipluation"
   ]
  },
  {
   "cell_type": "code",
   "execution_count": null,
   "id": "001a37d5-bf80-4d31-9fbc-69fab5222849",
   "metadata": {},
   "outputs": [],
   "source": [
    "def swapTwoChars(s, i, j):\n",
    "    s = list(s)\n",
    "    s[i], s[j] = s[j], s[i]\n",
    "    return ''.join(s)\n",
    "\n",
    "def incrementTwoChars(s, i, j):\n",
    "    s = list(s)\n",
    "    s[i] = chr(ord(s[i]) + 1)\n",
    "    s[j] = chr(ord(s[j]) + 1)\n",
    "    return ''.join(s)\n",
    "\n",
    "def checkMatchingStrings(words1, words2):\n",
    "    sol = []\n",
    "    for word1, word2 in zip(words1, words2):\n",
    "        if len(word1) != len(word2):\n",
    "            sol.append('0')\n",
    "        else:\n",
    "            for i in range(len(word1)-1):\n",
    "                if word1[i] != word2[i]:\n",
    "                    if word1[i] == word1[i+1]:\n",
    "                        while (word1[i] != word2[i]):\n",
    "                            word1 = incrementTwoChars(word1, i, i+1)\n",
    "                            if word1[i] == \"{\":\n",
    "                                break\n",
    "                    elif swapTwoChars(word1, i, i+1)[i:i+1] == word2[i:i+1]:\n",
    "                        word1 = swapTwoChars(word1, i, i+1)\n",
    "            if word1 == word2:\n",
    "                sol.append('1')\n",
    "            else:\n",
    "                sol.append('0')\n",
    "    return sol\n",
    "\n",
    "if __name__ == '__main__':\n",
    "    fptr = open(os.environ['OUTPUT_PATH'], 'w')\n",
    "\n",
    "    words1_count = int(input().strip())\n",
    "\n",
    "    words1 = []\n",
    "\n",
    "    for _ in range(words1_count):\n",
    "        words1_item = input()\n",
    "        words1.append(words1_item)\n",
    "\n",
    "    words2_count = int(input().strip())\n",
    "\n",
    "    words2 = []\n",
    "\n",
    "    for _ in range(words2_count):\n",
    "        words2_item = input()\n",
    "        words2.append(words2_item)\n",
    "\n",
    "    result = checkMatchingStrings(words1, words2)\n",
    "\n",
    "    fptr.write('\\n'.join(map(str, result)))\n",
    "    fptr.write('\\n')\n",
    "\n",
    "    fptr.close()"
   ]
  }
 ],
 "metadata": {
  "kernelspec": {
   "display_name": "Python 3 (ipykernel)",
   "language": "python",
   "name": "python3"
  },
  "language_info": {
   "codemirror_mode": {
    "name": "ipython",
    "version": 3
   },
   "file_extension": ".py",
   "mimetype": "text/x-python",
   "name": "python",
   "nbconvert_exporter": "python",
   "pygments_lexer": "ipython3",
   "version": "3.9.12"
  }
 },
 "nbformat": 4,
 "nbformat_minor": 5
}
