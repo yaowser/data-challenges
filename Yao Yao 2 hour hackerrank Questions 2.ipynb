{
 "cells": [
  {
   "cell_type": "markdown",
   "id": "b63c01a9-d5bc-4caa-ad9a-0d0fff4ef0be",
   "metadata": {},
   "source": [
    "# Q1: Time Average"
   ]
  },
  {
   "cell_type": "code",
   "execution_count": 1,
   "id": "c01c3307-9191-474b-bd14-d37275a38c95",
   "metadata": {},
   "outputs": [
    {
     "name": "stdout",
     "output_type": "stream",
     "text": [
      "10:30AM\n"
     ]
    }
   ],
   "source": [
    "from datetime import datetime as dt\n",
    "from cmath import rect, phase\n",
    "from math import radians, degrees\n",
    "import numpy as np\n",
    "times = ['12:30:30AM\\n', '08:00:30AM\\n', '09:00:30am\\n', '12:30:30pm\\n', '04:00:30PM']\n",
    "cleaned_times = [dt.strptime(i.upper()[:10],'%I:%M:%S%p').strftime('%H:%M:%S') for i in times]\n",
    "def meanAngle(deg):\n",
    "    complexDegree = sum(rect(1, radians(d)) for d in deg) / len(deg)\n",
    "    argument = phase(complexDegree)\n",
    "    meanAngle = degrees(argument)\n",
    "    return meanAngle\n",
    "\n",
    "def meanTime(times):\n",
    "    t = (time.split(':') for time in times)\n",
    "    seconds = ((float(s) + int(m) * 60 + int(h) * 3600) \n",
    "               for h, m, s in t)\n",
    "    day = 24 * 60 * 60\n",
    "    toAngles = [s * 360. / day for s in seconds]\n",
    "    meanAsAngle = meanAngle(toAngles)\n",
    "    meanSeconds = meanAsAngle * day / 360.\n",
    "    if meanSeconds < 0:\n",
    "        meanSeconds += day\n",
    "    h, m = divmod(meanSeconds, 3600)\n",
    "    m, s = divmod(m, 60)\n",
    "    ampm = \"AM\"\n",
    "    if h > 12:\n",
    "        h =- 12\n",
    "        ampm = \"PM\"       \n",
    "    return('%02i:%02i%s' % (h, m, ampm))\n",
    "\n",
    "print(meanTime(cleaned_times))"
   ]
  },
  {
   "cell_type": "markdown",
   "id": "a8bece2b-a2e9-4c85-91ff-df59834076ac",
   "metadata": {
    "tags": []
   },
   "source": [
    "# Q2: derivative braking"
   ]
  },
  {
   "cell_type": "code",
   "execution_count": 2,
   "id": "d41aba93-2842-48a2-b132-d54a4ac33755",
   "metadata": {},
   "outputs": [
    {
     "name": "stdout",
     "output_type": "stream",
     "text": [
      "1\n"
     ]
    }
   ],
   "source": [
    "CSV_lines = ['0.5',\n",
    "'0.0,0',\n",
    "'0.5,1',\n",
    "'1.0,2',\n",
    "'1.5,5',\n",
    "'2.0,4',\n",
    "'2.5,4',\n",
    "'3.0,3',\n",
    "'3.5,2',\n",
    "'4.0,2',\n",
    "'4.5,2']\n",
    "\n",
    "import pandas as pd\n",
    "\n",
    "def check(lines_parsed):\n",
    "    #get threshold for hard breaking\n",
    "    check = float(lines_parsed[0][0])\n",
    "    #recreate table\n",
    "    df = pd.DataFrame(lines_parsed, columns = ['times', 'speeds'])[1:].astype(float)\n",
    "    #create accelerations from speeds over time\n",
    "    df['accelerations'] = df.diff(2)['speeds'].reset_index(drop=True)\n",
    "    #check if acceleration is negative and above hard breaking threshold\n",
    "    df['hard braking'] = df['accelerations'] < -check\n",
    "    #create separate dataframe to check for hard breaking blocks\n",
    "    df2 = df.applymap(lambda x: 1 if x else 0)\n",
    "    #check when hard breaking starts and ends\n",
    "    df2 = df2.diff()\n",
    "    #count the number of instances of hard breaking\n",
    "    print((df2['hard braking']==1).sum())\n",
    "    \n",
    "if __name__ == \"__main__\":\n",
    "    lines_parsed: [list[list[float]]] = []\n",
    "    for line in CSV_lines:\n",
    "        parsed_line = line.strip('\\n').split(',')\n",
    "        lines_parsed.append(parsed_line)\n",
    "    check(lines_parsed)"
   ]
  },
  {
   "cell_type": "markdown",
   "id": "3a24b7d3-b761-4109-9369-51097c4b2997",
   "metadata": {},
   "source": [
    "# Q3: Gradient Descent"
   ]
  },
  {
   "cell_type": "code",
   "execution_count": 3,
   "id": "93145f19-3c81-43ea-a30d-35aef0c61eff",
   "metadata": {},
   "outputs": [
    {
     "name": "stdout",
     "output_type": "stream",
     "text": [
      "k1 = 3.9900\n",
      "k2 = 4.9893\n",
      "b = 1.1126\n",
      "n_iter = 163\n"
     ]
    }
   ],
   "source": [
    "import pandas as pd\n",
    "premium = [421, 279, 311] \n",
    "room_count = [8, 4, 5] \n",
    "house_age = [33, 43, 42]\n",
    "df = pd.DataFrame([premium, room_count, house_age]).T.astype(float)\n",
    "df.columns = ['premium', 'room_count', 'house_age'] \n",
    "df['room_count2'] = df['room_count']**2 \n",
    "room_count2 = df['room_count2'] \n",
    "house_age = df['house_age'] \n",
    "premium = df['premium']\n",
    "room_count = df['room_count']\n",
    "k1 = 1\n",
    "k2 = 1\n",
    "b = 1\n",
    "d_k1_prev = 0\n",
    "d_k2_prev = 0\n",
    "d_b_prev = 0\n",
    "\n",
    "alpha = 0.0001\n",
    "threshold = 10**-6\n",
    "epochs = 1\n",
    "\n",
    "N = float(len(df))\n",
    "\n",
    "while (True): \n",
    "    f = premium - (k1*room_count2 + k2*house_age + b)  # The current predicted value of Z\n",
    "    d_k1 = alpha * (-4*k1/N) * room_count.dot(f).sum() # Derivative wrt k1...might be missing a chain rule\n",
    "    d_k2 = alpha * (-2/N) * house_age.dot(f).sum() # Derivative wrt k2...might be missing a chain rule\n",
    "    d_b = alpha * (-2/N) * (f).sum()  # Derivative wrt b\n",
    "    if (abs(d_k1_prev - d_k1) < threshold) & (abs(d_k2_prev - d_k2) < threshold) & (abs(d_b_prev - d_b) < threshold):\n",
    "        break\n",
    "    d_k1_prev = d_k1\n",
    "    d_k2_prev = d_k2\n",
    "    d_b_prev = d_b\n",
    "    k1 -= d_k1\n",
    "    k2 -= d_k2\n",
    "    b -= d_b\n",
    "    epochs += 1\n",
    "print ('k1 = {:.4f}\\nk2 = {:.4f}\\nb = {:.4f}\\nn_iter = {:.0f}'.format(k1, k2, b, epochs))"
   ]
  },
  {
   "cell_type": "code",
   "execution_count": 4,
   "id": "c8e89df8-1203-4ffe-8bde-44676d6e7fd2",
   "metadata": {},
   "outputs": [
    {
     "name": "stdout",
     "output_type": "stream",
     "text": [
      "k1 = 3.9898\n",
      "k2 = 4.9894\n",
      "b = 1.1126\n",
      "n_iter = 156\n"
     ]
    }
   ],
   "source": [
    "k1 = 1\n",
    "k2 = 1\n",
    "b = 1\n",
    "epochs = 156\n",
    "\n",
    "for _ in range(epochs): \n",
    "    f = premium - (k1*room_count2 + k2*house_age + b)  # The current predicted value of Z\n",
    "    k1 -= alpha * (-4*k1/N) * room_count.dot(f).sum() # Derivative wrt k1...might be missing a chain rule\n",
    "    k2 -= alpha * (-2/N) * house_age.dot(f).sum() # Derivative wrt k2...might be missing a chain rule\n",
    "    b -= alpha * (-2/N) * (f).sum()  # Derivative wrt c\n",
    "\n",
    "print ('k1 = {:.4f}\\nk2 = {:.4f}\\nb = {:.4f}\\nn_iter = {:.0f}'.format(k1, k2, b, epochs))"
   ]
  },
  {
   "cell_type": "code",
   "execution_count": 9,
   "id": "388c06b7-3861-4793-bbd6-c2af97cb2c7e",
   "metadata": {},
   "outputs": [
    {
     "data": {
      "text/latex": [
       "$\\displaystyle - \\frac{4 a x \\left(- a x^{2} - b y - c + z\\right)}{n}$"
      ],
      "text/plain": [
       "-4*a*x*(-a*x**2 - b*y - c + z)/n"
      ]
     },
     "execution_count": 9,
     "metadata": {},
     "output_type": "execute_result"
    }
   ],
   "source": [
    "from sympy import symbols, diff\n",
    "x, y, z = symbols('x y z', real=True)\n",
    "a, b, c, n = symbols('a b c n', real=True)\n",
    "\n",
    "f = 1/n * (z - (a*x**2 + b*y + c))**2\n",
    "diff(f, x)"
   ]
  },
  {
   "cell_type": "code",
   "execution_count": 10,
   "id": "a29955bf-0039-429c-818c-4d730b4dd148",
   "metadata": {},
   "outputs": [
    {
     "data": {
      "text/latex": [
       "$\\displaystyle - \\frac{2 b \\left(- a x^{2} - b y - c + z\\right)}{n}$"
      ],
      "text/plain": [
       "-2*b*(-a*x**2 - b*y - c + z)/n"
      ]
     },
     "execution_count": 10,
     "metadata": {},
     "output_type": "execute_result"
    }
   ],
   "source": [
    "diff(f, y)"
   ]
  },
  {
   "cell_type": "code",
   "execution_count": 11,
   "id": "7085e785-ac57-4f5a-870c-caa323ae926a",
   "metadata": {},
   "outputs": [
    {
     "data": {
      "text/latex": [
       "$\\displaystyle \\frac{- 2 a x^{2} - 2 b y - 2 c + 2 z}{n}$"
      ],
      "text/plain": [
       "(-2*a*x**2 - 2*b*y - 2*c + 2*z)/n"
      ]
     },
     "execution_count": 11,
     "metadata": {},
     "output_type": "execute_result"
    }
   ],
   "source": [
    "diff(f, z)"
   ]
  }
 ],
 "metadata": {
  "kernelspec": {
   "display_name": "Python 3 (ipykernel)",
   "language": "python",
   "name": "python3"
  },
  "language_info": {
   "codemirror_mode": {
    "name": "ipython",
    "version": 3
   },
   "file_extension": ".py",
   "mimetype": "text/x-python",
   "name": "python",
   "nbconvert_exporter": "python",
   "pygments_lexer": "ipython3",
   "version": "3.9.12"
  }
 },
 "nbformat": 4,
 "nbformat_minor": 5
}
